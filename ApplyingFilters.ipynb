{
 "cells": [
  {
   "cell_type": "markdown",
   "metadata": {},
   "source": [
    "# Applying Filters"
   ]
  },
  {
   "cell_type": "markdown",
   "metadata": {},
   "source": [
    "First, run the cell below to import the packages that we will use."
   ]
  },
  {
   "cell_type": "code",
   "execution_count": 1,
   "metadata": {},
   "outputs": [],
   "source": [
    "import pandas as pd\n",
    "import numpy as np\n",
    "import os "
   ]
  },
  {
   "cell_type": "markdown",
   "metadata": {},
   "source": [
    "## Step 1: Inspect the Data\n"
   ]
  },
  {
   "cell_type": "markdown",
   "metadata": {},
   "source": [
    "We wll be working with the \"adult\" data set which contains Census information from 1994. \n",
    "\n",
    "The code cell below loads the data set by using the Pandas `pd.read_csv()` function to read in the CSV file that contains the data. The file is located in a folder named \"data\" and has the name \"adult.data.partial.\" The `pd.read_csv()` function returns a Pandas DataFrame. We will assign the data to a DataFrame object called `df`. Run the cell below to load the data."
   ]
  },
  {
   "cell_type": "code",
   "execution_count": 2,
   "metadata": {},
   "outputs": [],
   "source": [
    "filename = os.path.join(os.getcwd(), \"data\", \"adult.data.partial\")\n",
    "df = pd.read_csv(filename, header=0)"
   ]
  },
  {
   "cell_type": "markdown",
   "metadata": {},
   "source": [
    "In the code cell below, use the Pandas DataFrame `head()` method to display the first few rows of the DataFrame `df`."
   ]
  },
  {
   "cell_type": "code",
   "execution_count": 4,
   "metadata": {},
   "outputs": [
    {
     "data": {
      "text/html": [
       "<div>\n",
       "<style scoped>\n",
       "    .dataframe tbody tr th:only-of-type {\n",
       "        vertical-align: middle;\n",
       "    }\n",
       "\n",
       "    .dataframe tbody tr th {\n",
       "        vertical-align: top;\n",
       "    }\n",
       "\n",
       "    .dataframe thead th {\n",
       "        text-align: right;\n",
       "    }\n",
       "</style>\n",
       "<table border=\"1\" class=\"dataframe\">\n",
       "  <thead>\n",
       "    <tr style=\"text-align: right;\">\n",
       "      <th></th>\n",
       "      <th>age</th>\n",
       "      <th>workclass</th>\n",
       "      <th>fnlwgt</th>\n",
       "      <th>education</th>\n",
       "      <th>education-num</th>\n",
       "      <th>marital-status</th>\n",
       "      <th>occupation</th>\n",
       "      <th>relationship</th>\n",
       "      <th>race</th>\n",
       "      <th>sex_selfID</th>\n",
       "      <th>capital-gain</th>\n",
       "      <th>capital-loss</th>\n",
       "      <th>hours-per-week</th>\n",
       "      <th>native-country</th>\n",
       "      <th>label</th>\n",
       "    </tr>\n",
       "  </thead>\n",
       "  <tbody>\n",
       "    <tr>\n",
       "      <th>0</th>\n",
       "      <td>36</td>\n",
       "      <td>State-gov</td>\n",
       "      <td>112074</td>\n",
       "      <td>Doctorate</td>\n",
       "      <td>16</td>\n",
       "      <td>Never-married</td>\n",
       "      <td>Prof-specialty</td>\n",
       "      <td>Not-in-family</td>\n",
       "      <td>White</td>\n",
       "      <td>Non-Female</td>\n",
       "      <td>0</td>\n",
       "      <td>0</td>\n",
       "      <td>45</td>\n",
       "      <td>United-States</td>\n",
       "      <td>&lt;=50K</td>\n",
       "    </tr>\n",
       "    <tr>\n",
       "      <th>1</th>\n",
       "      <td>35</td>\n",
       "      <td>Private</td>\n",
       "      <td>32528</td>\n",
       "      <td>HS-grad</td>\n",
       "      <td>9</td>\n",
       "      <td>Married-civ-spouse</td>\n",
       "      <td>Handlers-cleaners</td>\n",
       "      <td>Husband</td>\n",
       "      <td>White</td>\n",
       "      <td>Non-Female</td>\n",
       "      <td>0</td>\n",
       "      <td>0</td>\n",
       "      <td>45</td>\n",
       "      <td>United-States</td>\n",
       "      <td>&lt;=50K</td>\n",
       "    </tr>\n",
       "    <tr>\n",
       "      <th>2</th>\n",
       "      <td>21</td>\n",
       "      <td>Private</td>\n",
       "      <td>270043</td>\n",
       "      <td>Some-college</td>\n",
       "      <td>10</td>\n",
       "      <td>Never-married</td>\n",
       "      <td>Other-service</td>\n",
       "      <td>Own-child</td>\n",
       "      <td>White</td>\n",
       "      <td>Female</td>\n",
       "      <td>0</td>\n",
       "      <td>0</td>\n",
       "      <td>16</td>\n",
       "      <td>United-States</td>\n",
       "      <td>&lt;=50K</td>\n",
       "    </tr>\n",
       "    <tr>\n",
       "      <th>3</th>\n",
       "      <td>45</td>\n",
       "      <td>Private</td>\n",
       "      <td>168837</td>\n",
       "      <td>Some-college</td>\n",
       "      <td>10</td>\n",
       "      <td>Married-civ-spouse</td>\n",
       "      <td>Adm-clerical</td>\n",
       "      <td>Wife</td>\n",
       "      <td>White</td>\n",
       "      <td>Female</td>\n",
       "      <td>0</td>\n",
       "      <td>0</td>\n",
       "      <td>24</td>\n",
       "      <td>Canada</td>\n",
       "      <td>&gt;50K</td>\n",
       "    </tr>\n",
       "    <tr>\n",
       "      <th>4</th>\n",
       "      <td>39</td>\n",
       "      <td>Private</td>\n",
       "      <td>297449</td>\n",
       "      <td>Bachelors</td>\n",
       "      <td>13</td>\n",
       "      <td>Married-civ-spouse</td>\n",
       "      <td>Prof-specialty</td>\n",
       "      <td>Husband</td>\n",
       "      <td>White</td>\n",
       "      <td>Non-Female</td>\n",
       "      <td>0</td>\n",
       "      <td>0</td>\n",
       "      <td>40</td>\n",
       "      <td>United-States</td>\n",
       "      <td>&gt;50K</td>\n",
       "    </tr>\n",
       "  </tbody>\n",
       "</table>\n",
       "</div>"
      ],
      "text/plain": [
       "   age  workclass  fnlwgt     education  education-num      marital-status  \\\n",
       "0   36  State-gov  112074     Doctorate             16       Never-married   \n",
       "1   35    Private   32528       HS-grad              9  Married-civ-spouse   \n",
       "2   21    Private  270043  Some-college             10       Never-married   \n",
       "3   45    Private  168837  Some-college             10  Married-civ-spouse   \n",
       "4   39    Private  297449     Bachelors             13  Married-civ-spouse   \n",
       "\n",
       "          occupation   relationship   race  sex_selfID  capital-gain  \\\n",
       "0     Prof-specialty  Not-in-family  White  Non-Female             0   \n",
       "1  Handlers-cleaners        Husband  White  Non-Female             0   \n",
       "2      Other-service      Own-child  White      Female             0   \n",
       "3       Adm-clerical           Wife  White      Female             0   \n",
       "4     Prof-specialty        Husband  White  Non-Female             0   \n",
       "\n",
       "   capital-loss  hours-per-week native-country  label  \n",
       "0             0              45  United-States  <=50K  \n",
       "1             0              45  United-States  <=50K  \n",
       "2             0              16  United-States  <=50K  \n",
       "3             0              24         Canada   >50K  \n",
       "4             0              40  United-States   >50K  "
      ]
     },
     "execution_count": 4,
     "metadata": {},
     "output_type": "execute_result"
    }
   ],
   "source": [
    "# YOUR CODE HERE - this cell will not be graded\n",
    "df.head()"
   ]
  },
  {
   "cell_type": "markdown",
   "metadata": {},
   "source": [
    "Use the Pandas `shape` property to display the number of rows and columns in the data. If you forgot the syntax, call `df.shape?` in the cell below to read the documentation.\n",
    "\n",
    "How many examples (rows) do we have? How many features (columns)?\n"
   ]
  },
  {
   "cell_type": "code",
   "execution_count": 9,
   "metadata": {},
   "outputs": [
    {
     "data": {
      "text/plain": [
       "(7000, 15)"
      ]
     },
     "execution_count": 9,
     "metadata": {},
     "output_type": "execute_result"
    }
   ],
   "source": [
    "# YOUR CODE HERE - this cell will not be graded\n",
    "df.shape"
   ]
  },
  {
   "cell_type": "markdown",
   "metadata": {},
   "source": [
    "## Step 2: Random Sampling of the Data\n",
    "Random sampling from the data using `np.random.choice` and `loc`"
   ]
  },
  {
   "cell_type": "markdown",
   "metadata": {},
   "source": [
    "We will start by sampling some of the data. You will learn more about sampling in a future exercise, \n",
    "\n",
    "For now, imagine that you need to randomly select 30% of the data examples. <br>\n",
    "\n",
    "First, we will do this the 'NumPy' way.<br>\n",
    "\n",
    "In the cell below, some code is already pre-written to randomly select 30% of rows and save their indices to variable `indices`.<br> \n",
    "\n",
    "The variable `indices` only contains the indices of rows, not the actual data in the rows. \n",
    "\n",
    "Complete the code below to obtain only the rows in `df` with the indices  specified in variable `indices`. \n",
    "\n",
    "You will recall that you can use `loc[]` to index into a DataFrame to acces rows. Use `loc[]` accomplish this task.\n",
    "\n",
    "Save this result to a new DataFrame named `df_subset`. "
   ]
  },
  {
   "cell_type": "markdown",
   "metadata": {},
   "source": [
    "### Graded Cell\n",
    "\n",
    "The cell below will be graded. Remove the line \"raise NotImplementedError()\" before writing your code."
   ]
  },
  {
   "cell_type": "code",
   "execution_count": 17,
   "metadata": {
    "deletable": false,
    "nbgrader": {
     "checksum": "7ebb10249c06f81c407a5d5826373041",
     "grade": false,
     "grade_id": "cell-subset",
     "locked": false,
     "schema_version": 1,
     "solution": true
    }
   },
   "outputs": [
    {
     "name": "stdout",
     "output_type": "stream",
     "text": [
      "      age     workclass  fnlwgt  education  education-num      marital-status  \\\n",
      "6701   19  Self-emp-inc  170125    HS-grad              9       Never-married   \n",
      "2752   31       Private  159187    HS-grad              9            Divorced   \n",
      "6276   20       Private   47791       12th              8            Divorced   \n",
      "3440   29       Private  183854    HS-grad              9       Never-married   \n",
      "2805   29       Private  132686    HS-grad              9            Divorced   \n",
      "...   ...           ...     ...        ...            ...                 ...   \n",
      "2929   33       Private  162312    HS-grad              9            Divorced   \n",
      "2049   29     Local-gov  190525  Bachelors             13  Married-civ-spouse   \n",
      "6528   37       Private   75024    HS-grad              9            Divorced   \n",
      "2031   51       Private  241745    5th-6th              3           Separated   \n",
      "682    29       Private  133136       12th              8  Married-civ-spouse   \n",
      "\n",
      "             occupation   relationship                race  sex_selfID  \\\n",
      "6701              Sales      Own-child               White  Non-Female   \n",
      "2752   Transport-moving      Own-child               White  Non-Female   \n",
      "6276      Other-service  Not-in-family               White      Female   \n",
      "3440              Sales  Not-in-family               White      Female   \n",
      "2805  Machine-op-inspct      Unmarried               White  Non-Female   \n",
      "...                 ...            ...                 ...         ...   \n",
      "2929              Sales  Not-in-family  Asian-Pac-Islander  Non-Female   \n",
      "2049     Prof-specialty        Husband               White  Non-Female   \n",
      "6528              Sales      Unmarried               White      Female   \n",
      "2031  Machine-op-inspct      Unmarried               White      Female   \n",
      "682    Transport-moving        Husband               White  Non-Female   \n",
      "\n",
      "      capital-gain  capital-loss  hours-per-week native-country  label  \n",
      "6701             0             0              40  United-States  <=50K  \n",
      "2752             0             0              40  United-States  <=50K  \n",
      "6276             0             0              10  United-States  <=50K  \n",
      "3440             0             0              25  United-States  <=50K  \n",
      "2805             0             0              40  United-States  <=50K  \n",
      "...            ...           ...             ...            ...    ...  \n",
      "2929             0             0              45          Japan  <=50K  \n",
      "2049             0          1848              60        Germany   >50K  \n",
      "6528             0             0              25         Canada  <=50K  \n",
      "2031             0             0              40         Mexico  <=50K  \n",
      "682              0             0              40  United-States   >50K  \n",
      "\n",
      "[2100 rows x 15 columns]\n"
     ]
    }
   ],
   "source": [
    "percentage = 0.3\n",
    "num_rows = df.shape[0] \n",
    "indices = np.random.choice(df.index, size=int(percentage*num_rows), replace=False)\n",
    "\n",
    "\n",
    "# YOUR CODE HERE\n",
    "df_subset = df.loc[indices]"
   ]
  },
  {
   "cell_type": "markdown",
   "metadata": {},
   "source": [
    "### Self-Check\n",
    "\n",
    "Run the cell below to test the correctness of your code above before submitting for grading. Do not add code or delete code in the cell."
   ]
  },
  {
   "cell_type": "code",
   "execution_count": 13,
   "metadata": {
    "deletable": false,
    "editable": false,
    "nbgrader": {
     "checksum": "f6d7e139a6fc2b3349fede40d3dd9d0c",
     "grade": true,
     "grade_id": "cell-subset-test",
     "locked": true,
     "points": 1,
     "schema_version": 1,
     "solution": false
    }
   },
   "outputs": [
    {
     "name": "stdout",
     "output_type": "stream",
     "text": [
      "Correct!\n"
     ]
    }
   ],
   "source": [
    "# Run this self-test cell to check your code; \n",
    "# do not add code or delete code in this cell\n",
    "from jn import testSubset\n",
    "\n",
    "try:\n",
    "    p, err = testSubset(df, df_subset)\n",
    "    print(err)\n",
    "except Exception as e:\n",
    "    print(\"Error!\\n\" + str(e))\n",
    "    \n"
   ]
  },
  {
   "cell_type": "markdown",
   "metadata": {},
   "source": [
    "Note that you could write some of the code in the cell above in a single line, without creating a new array `indices`, which you likely won't use again. Note how the cell below accomplished that."
   ]
  },
  {
   "cell_type": "code",
   "execution_count": 26,
   "metadata": {},
   "outputs": [],
   "source": [
    "percentage = 0.3\n",
    "num_rows = df.shape[0] \n",
    "\n",
    "df_subset = df.loc[np.random.choice(df.index, size=int(percentage*num_rows), replace=False)]"
   ]
  },
  {
   "cell_type": "markdown",
   "metadata": {},
   "source": [
    "This compressed style may seem a little bit bulky and intimidating at first, but will become easier to comprehend as you get more experience.\n",
    "\n",
    "Let's check that our sampling worked. You should expect to see that the shape of the new object df_subset reflects that it has 30% of the original row number:"
   ]
  },
  {
   "cell_type": "code",
   "execution_count": 27,
   "metadata": {},
   "outputs": [
    {
     "name": "stdout",
     "output_type": "stream",
     "text": [
      "(7000, 15)\n",
      "(2100, 15)\n"
     ]
    }
   ],
   "source": [
    "print(df.shape) #original number of rows\n",
    "print(df_subset.shape) #30% of the number of rows\n"
   ]
  },
  {
   "cell_type": "markdown",
   "metadata": {},
   "source": [
    "But did you actualy select the rows randomly? Look at the indices in the new DataFrame:"
   ]
  },
  {
   "cell_type": "code",
   "execution_count": 31,
   "metadata": {},
   "outputs": [
    {
     "data": {
      "text/html": [
       "<div>\n",
       "<style scoped>\n",
       "    .dataframe tbody tr th:only-of-type {\n",
       "        vertical-align: middle;\n",
       "    }\n",
       "\n",
       "    .dataframe tbody tr th {\n",
       "        vertical-align: top;\n",
       "    }\n",
       "\n",
       "    .dataframe thead th {\n",
       "        text-align: right;\n",
       "    }\n",
       "</style>\n",
       "<table border=\"1\" class=\"dataframe\">\n",
       "  <thead>\n",
       "    <tr style=\"text-align: right;\">\n",
       "      <th></th>\n",
       "      <th>age</th>\n",
       "      <th>workclass</th>\n",
       "      <th>fnlwgt</th>\n",
       "      <th>education</th>\n",
       "      <th>education-num</th>\n",
       "      <th>marital-status</th>\n",
       "      <th>occupation</th>\n",
       "      <th>relationship</th>\n",
       "      <th>race</th>\n",
       "      <th>sex_selfID</th>\n",
       "      <th>capital-gain</th>\n",
       "      <th>capital-loss</th>\n",
       "      <th>hours-per-week</th>\n",
       "      <th>native-country</th>\n",
       "      <th>label</th>\n",
       "    </tr>\n",
       "  </thead>\n",
       "  <tbody>\n",
       "    <tr>\n",
       "      <th>678</th>\n",
       "      <td>45</td>\n",
       "      <td>Private</td>\n",
       "      <td>140664</td>\n",
       "      <td>Assoc-acdm</td>\n",
       "      <td>12</td>\n",
       "      <td>Divorced</td>\n",
       "      <td>Transport-moving</td>\n",
       "      <td>Not-in-family</td>\n",
       "      <td>White</td>\n",
       "      <td>Non-Female</td>\n",
       "      <td>0</td>\n",
       "      <td>0</td>\n",
       "      <td>55</td>\n",
       "      <td>United-States</td>\n",
       "      <td>&lt;=50K</td>\n",
       "    </tr>\n",
       "    <tr>\n",
       "      <th>1954</th>\n",
       "      <td>67</td>\n",
       "      <td>Private</td>\n",
       "      <td>180539</td>\n",
       "      <td>HS-grad</td>\n",
       "      <td>9</td>\n",
       "      <td>Married-civ-spouse</td>\n",
       "      <td>Sales</td>\n",
       "      <td>Husband</td>\n",
       "      <td>White</td>\n",
       "      <td>Non-Female</td>\n",
       "      <td>0</td>\n",
       "      <td>0</td>\n",
       "      <td>10</td>\n",
       "      <td>United-States</td>\n",
       "      <td>&lt;=50K</td>\n",
       "    </tr>\n",
       "    <tr>\n",
       "      <th>4168</th>\n",
       "      <td>52</td>\n",
       "      <td>Private</td>\n",
       "      <td>246936</td>\n",
       "      <td>11th</td>\n",
       "      <td>7</td>\n",
       "      <td>Married-civ-spouse</td>\n",
       "      <td>Other-service</td>\n",
       "      <td>Husband</td>\n",
       "      <td>White</td>\n",
       "      <td>Non-Female</td>\n",
       "      <td>0</td>\n",
       "      <td>0</td>\n",
       "      <td>40</td>\n",
       "      <td>United-States</td>\n",
       "      <td>&lt;=50K</td>\n",
       "    </tr>\n",
       "    <tr>\n",
       "      <th>6518</th>\n",
       "      <td>62</td>\n",
       "      <td>NaN</td>\n",
       "      <td>160155</td>\n",
       "      <td>7th-8th</td>\n",
       "      <td>4</td>\n",
       "      <td>Married-civ-spouse</td>\n",
       "      <td>NaN</td>\n",
       "      <td>Husband</td>\n",
       "      <td>White</td>\n",
       "      <td>Non-Female</td>\n",
       "      <td>6418</td>\n",
       "      <td>0</td>\n",
       "      <td>40</td>\n",
       "      <td>United-States</td>\n",
       "      <td>&gt;50K</td>\n",
       "    </tr>\n",
       "    <tr>\n",
       "      <th>6521</th>\n",
       "      <td>36</td>\n",
       "      <td>Private</td>\n",
       "      <td>171968</td>\n",
       "      <td>HS-grad</td>\n",
       "      <td>9</td>\n",
       "      <td>Married-civ-spouse</td>\n",
       "      <td>Craft-repair</td>\n",
       "      <td>Husband</td>\n",
       "      <td>White</td>\n",
       "      <td>Non-Female</td>\n",
       "      <td>0</td>\n",
       "      <td>0</td>\n",
       "      <td>40</td>\n",
       "      <td>United-States</td>\n",
       "      <td>&lt;=50K</td>\n",
       "    </tr>\n",
       "  </tbody>\n",
       "</table>\n",
       "</div>"
      ],
      "text/plain": [
       "      age workclass  fnlwgt   education  education-num      marital-status  \\\n",
       "678    45   Private  140664  Assoc-acdm             12            Divorced   \n",
       "1954   67   Private  180539     HS-grad              9  Married-civ-spouse   \n",
       "4168   52   Private  246936        11th              7  Married-civ-spouse   \n",
       "6518   62       NaN  160155     7th-8th              4  Married-civ-spouse   \n",
       "6521   36   Private  171968     HS-grad              9  Married-civ-spouse   \n",
       "\n",
       "            occupation   relationship   race  sex_selfID  capital-gain  \\\n",
       "678   Transport-moving  Not-in-family  White  Non-Female             0   \n",
       "1954             Sales        Husband  White  Non-Female             0   \n",
       "4168     Other-service        Husband  White  Non-Female             0   \n",
       "6518               NaN        Husband  White  Non-Female          6418   \n",
       "6521      Craft-repair        Husband  White  Non-Female             0   \n",
       "\n",
       "      capital-loss  hours-per-week native-country  label  \n",
       "678              0              55  United-States  <=50K  \n",
       "1954             0              10  United-States  <=50K  \n",
       "4168             0              40  United-States  <=50K  \n",
       "6518             0              40  United-States   >50K  \n",
       "6521             0              40  United-States  <=50K  "
      ]
     },
     "execution_count": 31,
     "metadata": {},
     "output_type": "execute_result"
    }
   ],
   "source": [
    "df_subset.head()"
   ]
  },
  {
   "cell_type": "markdown",
   "metadata": {
    "scrolled": true
   },
   "source": [
    "It seems random. To convince yourself that it is, try running the sampling code above again, and then re-run the `head()` method to above and inspect the results. You should see a different random sample each time you re-run the sampling code cell."
   ]
  },
  {
   "cell_type": "markdown",
   "metadata": {},
   "source": [
    "We will now see how to perform sampling using the `Pandas` way:"
   ]
  },
  {
   "cell_type": "code",
   "execution_count": 33,
   "metadata": {},
   "outputs": [
    {
     "data": {
      "text/html": [
       "<div>\n",
       "<style scoped>\n",
       "    .dataframe tbody tr th:only-of-type {\n",
       "        vertical-align: middle;\n",
       "    }\n",
       "\n",
       "    .dataframe tbody tr th {\n",
       "        vertical-align: top;\n",
       "    }\n",
       "\n",
       "    .dataframe thead th {\n",
       "        text-align: right;\n",
       "    }\n",
       "</style>\n",
       "<table border=\"1\" class=\"dataframe\">\n",
       "  <thead>\n",
       "    <tr style=\"text-align: right;\">\n",
       "      <th></th>\n",
       "      <th>age</th>\n",
       "      <th>workclass</th>\n",
       "      <th>fnlwgt</th>\n",
       "      <th>education</th>\n",
       "      <th>education-num</th>\n",
       "      <th>marital-status</th>\n",
       "      <th>occupation</th>\n",
       "      <th>relationship</th>\n",
       "      <th>race</th>\n",
       "      <th>sex_selfID</th>\n",
       "      <th>capital-gain</th>\n",
       "      <th>capital-loss</th>\n",
       "      <th>hours-per-week</th>\n",
       "      <th>native-country</th>\n",
       "      <th>label</th>\n",
       "    </tr>\n",
       "  </thead>\n",
       "  <tbody>\n",
       "    <tr>\n",
       "      <th>1317</th>\n",
       "      <td>39</td>\n",
       "      <td>State-gov</td>\n",
       "      <td>65390</td>\n",
       "      <td>Some-college</td>\n",
       "      <td>10</td>\n",
       "      <td>Married-civ-spouse</td>\n",
       "      <td>Adm-clerical</td>\n",
       "      <td>Husband</td>\n",
       "      <td>White</td>\n",
       "      <td>Non-Female</td>\n",
       "      <td>0</td>\n",
       "      <td>0</td>\n",
       "      <td>40</td>\n",
       "      <td>NaN</td>\n",
       "      <td>&lt;=50K</td>\n",
       "    </tr>\n",
       "    <tr>\n",
       "      <th>3036</th>\n",
       "      <td>33</td>\n",
       "      <td>Private</td>\n",
       "      <td>163003</td>\n",
       "      <td>Bachelors</td>\n",
       "      <td>13</td>\n",
       "      <td>Never-married</td>\n",
       "      <td>Exec-managerial</td>\n",
       "      <td>Other-relative</td>\n",
       "      <td>Asian-Pac-Islander</td>\n",
       "      <td>Female</td>\n",
       "      <td>0</td>\n",
       "      <td>0</td>\n",
       "      <td>40</td>\n",
       "      <td>Philippines</td>\n",
       "      <td>&lt;=50K</td>\n",
       "    </tr>\n",
       "    <tr>\n",
       "      <th>6058</th>\n",
       "      <td>26</td>\n",
       "      <td>Private</td>\n",
       "      <td>229523</td>\n",
       "      <td>HS-grad</td>\n",
       "      <td>9</td>\n",
       "      <td>Married-civ-spouse</td>\n",
       "      <td>Machine-op-inspct</td>\n",
       "      <td>Wife</td>\n",
       "      <td>White</td>\n",
       "      <td>Female</td>\n",
       "      <td>0</td>\n",
       "      <td>0</td>\n",
       "      <td>56</td>\n",
       "      <td>United-States</td>\n",
       "      <td>&lt;=50K</td>\n",
       "    </tr>\n",
       "    <tr>\n",
       "      <th>5541</th>\n",
       "      <td>29</td>\n",
       "      <td>Local-gov</td>\n",
       "      <td>419722</td>\n",
       "      <td>Assoc-acdm</td>\n",
       "      <td>12</td>\n",
       "      <td>Never-married</td>\n",
       "      <td>Adm-clerical</td>\n",
       "      <td>Not-in-family</td>\n",
       "      <td>White</td>\n",
       "      <td>Non-Female</td>\n",
       "      <td>3674</td>\n",
       "      <td>0</td>\n",
       "      <td>40</td>\n",
       "      <td>United-States</td>\n",
       "      <td>&lt;=50K</td>\n",
       "    </tr>\n",
       "    <tr>\n",
       "      <th>462</th>\n",
       "      <td>28</td>\n",
       "      <td>Private</td>\n",
       "      <td>196690</td>\n",
       "      <td>HS-grad</td>\n",
       "      <td>9</td>\n",
       "      <td>Never-married</td>\n",
       "      <td>Machine-op-inspct</td>\n",
       "      <td>Not-in-family</td>\n",
       "      <td>White</td>\n",
       "      <td>Female</td>\n",
       "      <td>0</td>\n",
       "      <td>0</td>\n",
       "      <td>40</td>\n",
       "      <td>United-States</td>\n",
       "      <td>&lt;=50K</td>\n",
       "    </tr>\n",
       "  </tbody>\n",
       "</table>\n",
       "</div>"
      ],
      "text/plain": [
       "      age  workclass  fnlwgt     education  education-num      marital-status  \\\n",
       "1317   39  State-gov   65390  Some-college             10  Married-civ-spouse   \n",
       "3036   33    Private  163003     Bachelors             13       Never-married   \n",
       "6058   26    Private  229523       HS-grad              9  Married-civ-spouse   \n",
       "5541   29  Local-gov  419722    Assoc-acdm             12       Never-married   \n",
       "462    28    Private  196690       HS-grad              9       Never-married   \n",
       "\n",
       "             occupation    relationship                race  sex_selfID  \\\n",
       "1317       Adm-clerical         Husband               White  Non-Female   \n",
       "3036    Exec-managerial  Other-relative  Asian-Pac-Islander      Female   \n",
       "6058  Machine-op-inspct            Wife               White      Female   \n",
       "5541       Adm-clerical   Not-in-family               White  Non-Female   \n",
       "462   Machine-op-inspct   Not-in-family               White      Female   \n",
       "\n",
       "      capital-gain  capital-loss  hours-per-week native-country  label  \n",
       "1317             0             0              40            NaN  <=50K  \n",
       "3036             0             0              40    Philippines  <=50K  \n",
       "6058             0             0              56  United-States  <=50K  \n",
       "5541          3674             0              40  United-States  <=50K  \n",
       "462              0             0              40  United-States  <=50K  "
      ]
     },
     "execution_count": 33,
     "metadata": {},
     "output_type": "execute_result"
    }
   ],
   "source": [
    "percentage = 0.3\n",
    "num_rows = df.shape[0] \n",
    "\n",
    "df_subset = df.sample(int(percentage*num_rows))\n",
    "df_subset.head()"
   ]
  },
  {
   "cell_type": "markdown",
   "metadata": {},
   "source": [
    "## Step 3:  Filter a DataFrame by Column Values"
   ]
  },
  {
   "cell_type": "markdown",
   "metadata": {},
   "source": [
    "Imagine that you want to examine only the private sector employees that we have in DataFrame `df`.  The cell below contains a conditional statement `df['workclass'] =='Private'` \n",
    "\n",
    "This will evaluate to a collection of True/False values per row. A value of True indicates that the corresponding row fulfills the condition. This collection of True/False values is of data type Pandas Series (a one-dimensional array). The array is assigned to variable `condition`. \n",
    "\n",
    "Run the cell below and inspect the results."
   ]
  },
  {
   "cell_type": "code",
   "execution_count": 34,
   "metadata": {},
   "outputs": [
    {
     "data": {
      "text/plain": [
       "0       False\n",
       "1        True\n",
       "2        True\n",
       "3        True\n",
       "4        True\n",
       "        ...  \n",
       "6995     True\n",
       "6996     True\n",
       "6997    False\n",
       "6998     True\n",
       "6999     True\n",
       "Name: workclass, Length: 7000, dtype: bool"
      ]
     },
     "execution_count": 34,
     "metadata": {},
     "output_type": "execute_result"
    }
   ],
   "source": [
    "condition = df['workclass'] =='Private' \n",
    "condition"
   ]
  },
  {
   "cell_type": "markdown",
   "metadata": {},
   "source": [
    "In the code cell below, use the `condition` variable to extract the private employee sector data from data DataFrame `df`. Hint: Index into `df` using bracket notation and supply it the variable `condition.` Save the results to variable `df_private`. Use the `head()` method to inspect the new DataFrame `df_private`."
   ]
  },
  {
   "cell_type": "markdown",
   "metadata": {},
   "source": [
    "### Graded Cell\n",
    "\n",
    "The cell below will be graded. Remove the line \"raise NotImplementedError()\" before writing your code."
   ]
  },
  {
   "cell_type": "code",
   "execution_count": 40,
   "metadata": {
    "deletable": false,
    "nbgrader": {
     "checksum": "b0fcbaa4690a9f030430989867fd81c2",
     "grade": false,
     "grade_id": "cell-private",
     "locked": false,
     "schema_version": 1,
     "solution": true
    }
   },
   "outputs": [
    {
     "data": {
      "text/html": [
       "<div>\n",
       "<style scoped>\n",
       "    .dataframe tbody tr th:only-of-type {\n",
       "        vertical-align: middle;\n",
       "    }\n",
       "\n",
       "    .dataframe tbody tr th {\n",
       "        vertical-align: top;\n",
       "    }\n",
       "\n",
       "    .dataframe thead th {\n",
       "        text-align: right;\n",
       "    }\n",
       "</style>\n",
       "<table border=\"1\" class=\"dataframe\">\n",
       "  <thead>\n",
       "    <tr style=\"text-align: right;\">\n",
       "      <th></th>\n",
       "      <th>age</th>\n",
       "      <th>workclass</th>\n",
       "      <th>fnlwgt</th>\n",
       "      <th>education</th>\n",
       "      <th>education-num</th>\n",
       "      <th>marital-status</th>\n",
       "      <th>occupation</th>\n",
       "      <th>relationship</th>\n",
       "      <th>race</th>\n",
       "      <th>sex_selfID</th>\n",
       "      <th>capital-gain</th>\n",
       "      <th>capital-loss</th>\n",
       "      <th>hours-per-week</th>\n",
       "      <th>native-country</th>\n",
       "      <th>label</th>\n",
       "    </tr>\n",
       "  </thead>\n",
       "  <tbody>\n",
       "    <tr>\n",
       "      <th>1</th>\n",
       "      <td>35</td>\n",
       "      <td>Private</td>\n",
       "      <td>32528</td>\n",
       "      <td>HS-grad</td>\n",
       "      <td>9</td>\n",
       "      <td>Married-civ-spouse</td>\n",
       "      <td>Handlers-cleaners</td>\n",
       "      <td>Husband</td>\n",
       "      <td>White</td>\n",
       "      <td>Non-Female</td>\n",
       "      <td>0</td>\n",
       "      <td>0</td>\n",
       "      <td>45</td>\n",
       "      <td>United-States</td>\n",
       "      <td>&lt;=50K</td>\n",
       "    </tr>\n",
       "    <tr>\n",
       "      <th>2</th>\n",
       "      <td>21</td>\n",
       "      <td>Private</td>\n",
       "      <td>270043</td>\n",
       "      <td>Some-college</td>\n",
       "      <td>10</td>\n",
       "      <td>Never-married</td>\n",
       "      <td>Other-service</td>\n",
       "      <td>Own-child</td>\n",
       "      <td>White</td>\n",
       "      <td>Female</td>\n",
       "      <td>0</td>\n",
       "      <td>0</td>\n",
       "      <td>16</td>\n",
       "      <td>United-States</td>\n",
       "      <td>&lt;=50K</td>\n",
       "    </tr>\n",
       "    <tr>\n",
       "      <th>3</th>\n",
       "      <td>45</td>\n",
       "      <td>Private</td>\n",
       "      <td>168837</td>\n",
       "      <td>Some-college</td>\n",
       "      <td>10</td>\n",
       "      <td>Married-civ-spouse</td>\n",
       "      <td>Adm-clerical</td>\n",
       "      <td>Wife</td>\n",
       "      <td>White</td>\n",
       "      <td>Female</td>\n",
       "      <td>0</td>\n",
       "      <td>0</td>\n",
       "      <td>24</td>\n",
       "      <td>Canada</td>\n",
       "      <td>&gt;50K</td>\n",
       "    </tr>\n",
       "    <tr>\n",
       "      <th>4</th>\n",
       "      <td>39</td>\n",
       "      <td>Private</td>\n",
       "      <td>297449</td>\n",
       "      <td>Bachelors</td>\n",
       "      <td>13</td>\n",
       "      <td>Married-civ-spouse</td>\n",
       "      <td>Prof-specialty</td>\n",
       "      <td>Husband</td>\n",
       "      <td>White</td>\n",
       "      <td>Non-Female</td>\n",
       "      <td>0</td>\n",
       "      <td>0</td>\n",
       "      <td>40</td>\n",
       "      <td>United-States</td>\n",
       "      <td>&gt;50K</td>\n",
       "    </tr>\n",
       "    <tr>\n",
       "      <th>5</th>\n",
       "      <td>27</td>\n",
       "      <td>Private</td>\n",
       "      <td>233421</td>\n",
       "      <td>Some-college</td>\n",
       "      <td>10</td>\n",
       "      <td>Never-married</td>\n",
       "      <td>Adm-clerical</td>\n",
       "      <td>Own-child</td>\n",
       "      <td>White</td>\n",
       "      <td>Non-Female</td>\n",
       "      <td>0</td>\n",
       "      <td>0</td>\n",
       "      <td>20</td>\n",
       "      <td>United-States</td>\n",
       "      <td>&lt;=50K</td>\n",
       "    </tr>\n",
       "  </tbody>\n",
       "</table>\n",
       "</div>"
      ],
      "text/plain": [
       "   age workclass  fnlwgt     education  education-num      marital-status  \\\n",
       "1   35   Private   32528       HS-grad              9  Married-civ-spouse   \n",
       "2   21   Private  270043  Some-college             10       Never-married   \n",
       "3   45   Private  168837  Some-college             10  Married-civ-spouse   \n",
       "4   39   Private  297449     Bachelors             13  Married-civ-spouse   \n",
       "5   27   Private  233421  Some-college             10       Never-married   \n",
       "\n",
       "          occupation relationship   race  sex_selfID  capital-gain  \\\n",
       "1  Handlers-cleaners      Husband  White  Non-Female             0   \n",
       "2      Other-service    Own-child  White      Female             0   \n",
       "3       Adm-clerical         Wife  White      Female             0   \n",
       "4     Prof-specialty      Husband  White  Non-Female             0   \n",
       "5       Adm-clerical    Own-child  White  Non-Female             0   \n",
       "\n",
       "   capital-loss  hours-per-week native-country  label  \n",
       "1             0              45  United-States  <=50K  \n",
       "2             0              16  United-States  <=50K  \n",
       "3             0              24         Canada   >50K  \n",
       "4             0              40  United-States   >50K  \n",
       "5             0              20  United-States  <=50K  "
      ]
     },
     "execution_count": 40,
     "metadata": {},
     "output_type": "execute_result"
    }
   ],
   "source": [
    "# YOUR CODE HERE\n",
    "df_private = df[condition]\n",
    "df_private.head()"
   ]
  },
  {
   "cell_type": "markdown",
   "metadata": {},
   "source": [
    "### Self-Check\n",
    "\n",
    "Run the cell below to test the correctness of your code above before submitting for grading. Do not add code or delete code in the cell."
   ]
  },
  {
   "cell_type": "code",
   "execution_count": 41,
   "metadata": {
    "deletable": false,
    "editable": false,
    "nbgrader": {
     "checksum": "b7a859a965e56f555afb3451f5a658a8",
     "grade": true,
     "grade_id": "cell-private-test",
     "locked": true,
     "points": 2,
     "schema_version": 1,
     "solution": false
    }
   },
   "outputs": [
    {
     "name": "stdout",
     "output_type": "stream",
     "text": [
      "Correct!\n"
     ]
    }
   ],
   "source": [
    "# Run this self-test cell to check your code; \n",
    "# do not add code or delete code in this cell\n",
    "from jn import testPrivate\n",
    "\n",
    "try:\n",
    "    p, err = testPrivate(df, df_private, condition)\n",
    "    print(err)\n",
    "except Exception as e:\n",
    "    print(\"Error!\\n\" + str(e))\n",
    "    \n"
   ]
  },
  {
   "cell_type": "markdown",
   "metadata": {},
   "source": [
    "How many of the rows are in the new DataFrame `df_private`?<br>\n",
    "\n",
    "In the cell below, display the number of rows in DataFrame `df_private` using the `shape` property. Save the results to variable `num_rows` and print `num_rows`. Hint: Recall that the `shape` property returns a tuple, with the first value corresponding to the number of rows and the second value corresponding to the number of columns."
   ]
  },
  {
   "cell_type": "markdown",
   "metadata": {},
   "source": [
    "### Graded Cell\n",
    "\n",
    "The cell below will be graded. Remove the line \"raise NotImplementedError()\" before writing your code."
   ]
  },
  {
   "cell_type": "code",
   "execution_count": 45,
   "metadata": {
    "deletable": false,
    "nbgrader": {
     "checksum": "9d41102c3afdf65a238efa529bfc6e8f",
     "grade": false,
     "grade_id": "cell-rows",
     "locked": false,
     "schema_version": 1,
     "solution": true
    }
   },
   "outputs": [
    {
     "name": "stdout",
     "output_type": "stream",
     "text": [
      "4879\n"
     ]
    }
   ],
   "source": [
    "# YOUR CODE HERE\n",
    "num_rows = df_private.shape[0]\n",
    "print(num_rows)"
   ]
  },
  {
   "cell_type": "markdown",
   "metadata": {},
   "source": [
    "### Self-Check\n",
    "\n",
    "Run the cell below to test the correctness of your code above before submitting for grading. Do not add code or delete code in the cell."
   ]
  },
  {
   "cell_type": "code",
   "execution_count": 46,
   "metadata": {
    "deletable": false,
    "editable": false,
    "nbgrader": {
     "checksum": "1da61e16f360fabe96996482a26608e2",
     "grade": true,
     "grade_id": "cell-rows-test",
     "locked": true,
     "points": 1,
     "schema_version": 1,
     "solution": false
    }
   },
   "outputs": [
    {
     "name": "stdout",
     "output_type": "stream",
     "text": [
      "Correct!\n"
     ]
    }
   ],
   "source": [
    "# Run this self-test cell to check your code; \n",
    "# do not add code or delete code in this cell\n",
    "from jn import testRows\n",
    "\n",
    "try:\n",
    "    p, err = testRows(num_rows)\n",
    "    print(err)\n",
    "except Exception as e:\n",
    "    print(\"Error!\\n\" + str(e))\n",
    "    \n"
   ]
  },
  {
   "cell_type": "markdown",
   "metadata": {},
   "source": [
    "## Step 4. Data Analysis using Filtering"
   ]
  },
  {
   "cell_type": "markdown",
   "metadata": {},
   "source": [
    "The code cell below finds the average age of people who self-reported as female in DataFrame `df`."
   ]
  },
  {
   "cell_type": "code",
   "execution_count": 47,
   "metadata": {},
   "outputs": [
    {
     "data": {
      "text/plain": [
       "36.764213309828115"
      ]
     },
     "execution_count": 47,
     "metadata": {},
     "output_type": "execute_result"
    }
   ],
   "source": [
    "condition = df['sex_selfID']=='Female' \n",
    "df[condition]['age'].mean()"
   ]
  },
  {
   "cell_type": "markdown",
   "metadata": {},
   "source": [
    "Notice that here we do not create a new DataFrame for the filtered data.\n",
    "Instead, we perform the computation and display the result. \n",
    "If you do not anticipate working further with a subset of your DataFrame  \n",
    "(e.g., querying it or finding more summary statistics about Females), then you don't need to save your results to a new DataFrame object."
   ]
  },
  {
   "cell_type": "markdown",
   "metadata": {},
   "source": [
    "As a practice, use the code cell below to play around with the statement that computes the mean: `df[condition]['age'].mean()`:\n",
    "    \n",
    "In particular:\n",
    "- Write `df[condition]` in the cell. run the cell and inspect the results.\n",
    "- Next, write  `df[condition]['age']` in the cell. Run the cell and inspect the new DataFrame. \n",
    "- Next, write `df[condition]['age'].mean()` in the cell. Run the cell and inspect the results.\n",
    "______"
   ]
  },
  {
   "cell_type": "code",
   "execution_count": 50,
   "metadata": {},
   "outputs": [
    {
     "data": {
      "text/plain": [
       "36.764213309828115"
      ]
     },
     "execution_count": 50,
     "metadata": {},
     "output_type": "execute_result"
    }
   ],
   "source": [
    "# YOUR CODE HERE - this cell will not be graded\n",
    "df[condition]['age'].mean()"
   ]
  },
  {
   "cell_type": "markdown",
   "metadata": {},
   "source": [
    "Next you want to know how many people work for the local government for more than 40 hours per week. Using the code above as a guide, in the code cell below:\n",
    "1. Define the conditions that will find the appropriate data from DataFrame `df`.\n",
    "2. Apply the condition to DataFrame `df`.\n",
    "3. Use the `shape` property to obtain the number of rows and assign the results to variable `rows`.\n",
    "\n",
    "Follow these steps:\n",
    "\n",
    "1. Create the first condition and name it `condition1`. `condition1` will look for the number of people who work for the local government. Employment information is found in the column `workclass`. The value is `Local-gov`.\n",
    "\n",
    "2. Create the second condition and name it `condition2`. `condition2` will check whether the number of hours worked per week is more than 40 hours. The number of hours worked can be found in the column `hours-per-week`. \n",
    "\n",
    "3. Combine these two conditions using the `&` operator to create a compound statement. Assign that to variable `condition` (`condition = condition1 & condition2`).\n",
    "\n",
    "4. Apply `condition` to DataFrame `df` using bracket notation, and save the result to DataFrame`df_local`. \n",
    "\n",
    "5. Use the `shape` property to obtain the number of rows in `df_local`. Assign the result to variable `rows`."
   ]
  },
  {
   "cell_type": "markdown",
   "metadata": {},
   "source": [
    "### Graded Cell\n",
    "\n",
    "The cell below will be graded. Remove the line \"raise NotImplementedError()\" before writing your code."
   ]
  },
  {
   "cell_type": "code",
   "execution_count": 59,
   "metadata": {
    "deletable": false,
    "nbgrader": {
     "checksum": "7a323c4c0e2a7fe882a89a28a7057874",
     "grade": false,
     "grade_id": "cell-condition",
     "locked": false,
     "schema_version": 1,
     "solution": true
    }
   },
   "outputs": [],
   "source": [
    "# YOUR CODE HERE\n",
    "condition1 = df['workclass'] == 'Local-gov'\n",
    "condition2 = df['hours-per-week'] > 40\n",
    "condition = condition1 & condition2\n",
    "df_local = df[condition]\n",
    "rows = df_local.shape\n",
    "rows = rows[0]"
   ]
  },
  {
   "cell_type": "markdown",
   "metadata": {},
   "source": [
    "### Self-Check\n",
    "\n",
    "Run the cell below to test the correctness of your code above before submitting for grading. Do not add code or delete code in the cell."
   ]
  },
  {
   "cell_type": "code",
   "execution_count": 60,
   "metadata": {
    "deletable": false,
    "editable": false,
    "nbgrader": {
     "checksum": "8ff3c6d4097b173b8c7c02ead59c1c62",
     "grade": true,
     "grade_id": "cell-condition-test",
     "locked": true,
     "points": 3,
     "schema_version": 1,
     "solution": false
    }
   },
   "outputs": [
    {
     "name": "stdout",
     "output_type": "stream",
     "text": [
      "Correct!\n"
     ]
    }
   ],
   "source": [
    "# Run this self-test cell to check your code; \n",
    "# do not add code or delete code in this cell\n",
    "from jn import testCondition\n",
    "\n",
    "try:\n",
    "    p, err = testCondition(df, condition1, condition2, condition, df_local, rows)\n",
    "    print(err)\n",
    "except Exception as e:\n",
    "    print(\"Error!\\n\" + str(e))\n",
    "    \n"
   ]
  },
  {
   "cell_type": "markdown",
   "metadata": {},
   "source": [
    "Sometimes your data may contain missing values. One such column that contains missing values in DataFrame `df` is `native-country`. Not everyone's native country has been supplied. Such columns contain the value `Nan`.\n",
    "\n",
    "The code cell below randomly samples 50% of rows for which the native country information is available and ignores missing values. It uses pandas `notnull()` method. You can read more about `notnull()` in the online [documentation](https://pandas.pydata.org/docs/reference/api/pandas.notnull.html)."
   ]
  },
  {
   "cell_type": "code",
   "execution_count": 61,
   "metadata": {},
   "outputs": [],
   "source": [
    "percentage = 0.5\n",
    "\n",
    "# obtain all rows in which the column 'native-country' contains a value\n",
    "df_country_notnull = df[df['native-country'].notnull()]\n",
    "\n",
    "# obtain the number of rows in df_country_notnull\n",
    "num_rows = df_country_notnull.shape[0]\n",
    "\n",
    "# obtain a 50% random sample of rows from df_country_notnull and save the indices of these rows\n",
    "indices = np.random.choice(df_country_notnull.index, size=int(percentage*num_rows), replace=False)\n",
    "\n",
    "# using the row indices, save these row values to new DataFrame df_filtered\n",
    "df_filtered = df_country_notnull.loc[indices]\n"
   ]
  },
  {
   "cell_type": "markdown",
   "metadata": {
    "collapsed": true
   },
   "source": [
    "In the code cell below, find the mean age of individuals in DataFrame `df_filtered` and save the value to variable `mean_age`."
   ]
  },
  {
   "cell_type": "markdown",
   "metadata": {},
   "source": [
    "### Graded Cell\n",
    "\n",
    "The cell below will be graded. Remove the line \"raise NotImplementedError()\" before writing your code."
   ]
  },
  {
   "cell_type": "code",
   "execution_count": 68,
   "metadata": {
    "deletable": false,
    "nbgrader": {
     "checksum": "a3777c0767faa77f0ab84c2c33d26a63",
     "grade": false,
     "grade_id": "cell-mean",
     "locked": false,
     "schema_version": 1,
     "solution": true
    }
   },
   "outputs": [],
   "source": [
    "# YOUR CODE HERE\n",
    "mean_age = np.mean(df_filtered['age'])"
   ]
  },
  {
   "cell_type": "markdown",
   "metadata": {},
   "source": [
    "### Self-Check\n",
    "\n",
    "Run the cell below to test the correctness of your code above before submitting for grading. Do not add code or delete code in the cell."
   ]
  },
  {
   "cell_type": "code",
   "execution_count": 69,
   "metadata": {
    "deletable": false,
    "editable": false,
    "nbgrader": {
     "checksum": "badf63d6133bda04529b4c4e75e03799",
     "grade": true,
     "grade_id": "cell-mean-test",
     "locked": true,
     "points": 2,
     "schema_version": 1,
     "solution": false
    }
   },
   "outputs": [
    {
     "name": "stdout",
     "output_type": "stream",
     "text": [
      "Correct!\n"
     ]
    }
   ],
   "source": [
    "# Run this self-test cell to check your code; \n",
    "# do not add code or delete code in this cell\n",
    "from jn import testMean\n",
    "try:\n",
    "    p, err = testMean(df_filtered, mean_age)\n",
    "    print(err)\n",
    "except Exception as e:\n",
    "    print(\"Error!\\n\" + str(e))\n",
    "    \n"
   ]
  },
  {
   "cell_type": "markdown",
   "metadata": {
    "collapsed": true
   },
   "source": [
    "You have been selecting a single column (e.g., 'age') by using bracket notation `df_filtered['age']`. You will sometimes also encounter columns being selected using dot notation `df_filtered.age`. Note that this won't work if the column name includes hyphens or any other special symbols. We will stick to providing names as strings in square brackets."
   ]
  }
 ],
 "metadata": {
  "kernelspec": {
   "display_name": "Python 3",
   "language": "python",
   "name": "python3"
  },
  "language_info": {
   "codemirror_mode": {
    "name": "ipython",
    "version": 3
   },
   "file_extension": ".py",
   "mimetype": "text/x-python",
   "name": "python",
   "nbconvert_exporter": "python",
   "pygments_lexer": "ipython3",
   "version": "3.6.9"
  },
  "toc": {
   "base_numbering": 1,
   "nav_menu": {},
   "number_sections": false,
   "sideBar": true,
   "skip_h1_title": false,
   "title_cell": "Table of Contents",
   "title_sidebar": "Contents",
   "toc_cell": false,
   "toc_position": {},
   "toc_section_display": true,
   "toc_window_display": false
  },
  "varInspector": {
   "cols": {
    "lenName": 16,
    "lenType": 16,
    "lenVar": 40
   },
   "kernels_config": {
    "python": {
     "delete_cmd_postfix": "",
     "delete_cmd_prefix": "del ",
     "library": "var_list.py",
     "varRefreshCmd": "print(var_dic_list())"
    },
    "r": {
     "delete_cmd_postfix": ") ",
     "delete_cmd_prefix": "rm(",
     "library": "var_list.r",
     "varRefreshCmd": "cat(var_dic_list()) "
    }
   },
   "types_to_exclude": [
    "module",
    "function",
    "builtin_function_or_method",
    "instance",
    "_Feature"
   ],
   "window_display": false
  }
 },
 "nbformat": 4,
 "nbformat_minor": 2
}
