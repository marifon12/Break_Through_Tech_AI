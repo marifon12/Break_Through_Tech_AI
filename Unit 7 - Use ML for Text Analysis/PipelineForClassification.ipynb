{
 "cells": [
  {
   "cell_type": "markdown",
   "metadata": {},
   "source": [
    "# Assignment 7: Using a Pipeline for Text Transformation and Classification"
   ]
  },
  {
   "cell_type": "code",
   "execution_count": 1,
   "metadata": {},
   "outputs": [],
   "source": [
    "import pandas as pd\n",
    "import numpy as np\n",
    "import os \n",
    "import matplotlib.pyplot as plt\n",
    "import seaborn as sns\n",
    "\n",
    "from sklearn.feature_extraction.text import TfidfVectorizer\n",
    "from sklearn.linear_model import LogisticRegression\n",
    "from sklearn.metrics import roc_auc_score\n",
    "from sklearn.model_selection import train_test_split"
   ]
  },
  {
   "cell_type": "markdown",
   "metadata": {},
   "source": [
    "In this assignment, you will practice text vectorization to transform text into numerical feature vectors that can be used to train a classifier. You will then see how to use scikit-learn pipelines to chain together these processes into one step. You will:\n",
    "\n",
    "1. Load the Airbnb \"listings\" data set.\n",
    "2. Use a single text column as a feature. \n",
    "3. Transform features using a TF-IDF vectorizer. \n",
    "4. Fit a logistic regression model to the transformed features. \n",
    "5. Evaluate the performance of the model using AUC.\n",
    "6. Set up a scikit-learn pipeline to perform the same tasks above. \n",
    "7. Execute the pipeline and verify that the performance is the same.\n",
    "\n",
    "**<font color='red'>Note: some of the code cells in this notebook may take a while to run</font>**"
   ]
  },
  {
   "cell_type": "markdown",
   "metadata": {},
   "source": [
    "## Part 1: Load the Data Set"
   ]
  },
  {
   "cell_type": "markdown",
   "metadata": {},
   "source": [
    "We will work with a new version of the familiar Airbnb \"listings\" data set. It contains all of the numerical and binary columns we used previously, but also contains unstructured text fields."
   ]
  },
  {
   "cell_type": "code",
   "execution_count": 2,
   "metadata": {},
   "outputs": [],
   "source": [
    "filename = os.path.join(os.getcwd(), \"data\", \"airbnb_text_readytofit.csv.gz\")\n",
    "df = pd.read_csv(filename, header=0)"
   ]
  },
  {
   "cell_type": "code",
   "execution_count": 3,
   "metadata": {},
   "outputs": [
    {
     "data": {
      "text/plain": [
       "Index(['name', 'description', 'neighborhood_overview', 'host_name',\n",
       "       'host_location', 'host_about', 'host_is_superhost',\n",
       "       'host_has_profile_pic', 'host_identity_verified', 'host_response_rate',\n",
       "       'host_acceptance_rate', 'host_listings_count',\n",
       "       'host_total_listings_count', 'accommodates', 'bathrooms', 'bedrooms',\n",
       "       'beds', 'price', 'minimum_nights', 'maximum_nights',\n",
       "       'minimum_minimum_nights', 'maximum_minimum_nights',\n",
       "       'minimum_maximum_nights', 'maximum_maximum_nights',\n",
       "       'minimum_nights_avg_ntm', 'maximum_nights_avg_ntm', 'availability_30',\n",
       "       'availability_60', 'availability_90', 'availability_365',\n",
       "       'number_of_reviews', 'number_of_reviews_ltm', 'number_of_reviews_l30d',\n",
       "       'review_scores_rating', 'review_scores_cleanliness',\n",
       "       'review_scores_checkin', 'review_scores_communication',\n",
       "       'review_scores_location', 'review_scores_value',\n",
       "       'calculated_host_listings_count',\n",
       "       'calculated_host_listings_count_entire_homes',\n",
       "       'calculated_host_listings_count_private_rooms',\n",
       "       'calculated_host_listings_count_shared_rooms', 'reviews_per_month',\n",
       "       'n_host_verifications', 'neighbourhood_group_cleansed_Bronx',\n",
       "       'neighbourhood_group_cleansed_Brooklyn',\n",
       "       'neighbourhood_group_cleansed_Manhattan',\n",
       "       'neighbourhood_group_cleansed_Queens',\n",
       "       'neighbourhood_group_cleansed_Staten Island',\n",
       "       'room_type_Entire home/apt', 'room_type_Hotel room',\n",
       "       'room_type_Private room', 'room_type_Shared room',\n",
       "       'has_availability_True', 'instant_bookable_True'],\n",
       "      dtype='object')"
      ]
     },
     "execution_count": 3,
     "metadata": {},
     "output_type": "execute_result"
    }
   ],
   "source": [
    "df.head()\n",
    "df.columns"
   ]
  },
  {
   "cell_type": "markdown",
   "metadata": {},
   "source": [
    "## Part 2: Create Training and Test Data Sets"
   ]
  },
  {
   "cell_type": "markdown",
   "metadata": {},
   "source": [
    "### Create Labeled Examples \n",
    "\n",
    "<b>Task</b>: Create labeled examples from DataFrame `df`. We will have one text feature and one label.  \n",
    "\n",
    "In the code cell below carry out the following steps:\n",
    "\n",
    "* Get the `host_is_superhost` column from DataFrame `df` and assign it to the variable `y`. This will be our label.\n",
    "* Gets the column `description` from DataFrame `df` and assign it to the variable `X`. This will our feature. Note that the `description` feature contains text describing the listing."
   ]
  },
  {
   "cell_type": "code",
   "execution_count": 4,
   "metadata": {},
   "outputs": [],
   "source": [
    "# YOUR CODE HERE\n",
    "y = df['host_is_superhost']\n",
    "X = df['description']"
   ]
  },
  {
   "cell_type": "code",
   "execution_count": 5,
   "metadata": {},
   "outputs": [
    {
     "data": {
      "text/plain": [
       "0    Beautiful, spacious skylit studio in the heart...\n",
       "1    Enjoy 500 s.f. top floor in 1899 brownstone, w...\n",
       "2    We welcome you to stay in our lovely 2 br dupl...\n",
       "3    Please don’t expect the luxury here just a bas...\n",
       "4    Our best guests are seeking a safe, clean, spa...\n",
       "Name: description, dtype: object"
      ]
     },
     "execution_count": 5,
     "metadata": {},
     "output_type": "execute_result"
    }
   ],
   "source": [
    "X.head()"
   ]
  },
  {
   "cell_type": "code",
   "execution_count": 6,
   "metadata": {},
   "outputs": [
    {
     "data": {
      "text/plain": [
       "(27388,)"
      ]
     },
     "execution_count": 6,
     "metadata": {},
     "output_type": "execute_result"
    }
   ],
   "source": [
    "X.shape"
   ]
  },
  {
   "cell_type": "markdown",
   "metadata": {},
   "source": [
    "### Split Labeled Examples into Training and Test Sets\n",
    "\n",
    "<b>Task</b>: In the code cell below create training and test sets out of the labeled examples. \n",
    "\n",
    "1. Use scikit-learn's `train_test_split()` function to create the data sets.\n",
    "\n",
    "2. Specify:\n",
    "    * A test set that is 20 percent (.20) of the size of the data set.\n",
    "    * A seed value of '1234'. "
   ]
  },
  {
   "cell_type": "code",
   "execution_count": 7,
   "metadata": {},
   "outputs": [],
   "source": [
    "# YOUR CODE HERE\n",
    "X_train, X_test, y_train, y_test = train_test_split(X, y, test_size=0.2, random_state=1234)"
   ]
  },
  {
   "cell_type": "markdown",
   "metadata": {},
   "source": [
    "## Part 3: Implement TF-IDF Vectorizer to Transform Text"
   ]
  },
  {
   "cell_type": "markdown",
   "metadata": {},
   "source": [
    "<b>Task</b>: Complete the code in the cell below to implement a TF-IDF transformation on the training and test data.\n",
    "Use the \"Transforming Text For a Classifier\" demo as a guide. Follow the following steps:\n",
    "\n",
    "1. Create a `TfidfVectorizer` object and save it to the variable `tfidf_vectorizer`.\n",
    "2. Call `tfidf_vectorizer.fit()` to fit the vectorizer to the training data `X_train`.\n",
    "3. Call the `tfidf_vectorizer.transform()` method to use the fitted vectorizer to transform the training data `X_train`. Save the result to `X_train_tfidf`.\n",
    "4. Call the `tfidf_vectorizer.transform()` method to use the fitted vectorizer to transform the test data `X_test`. Save the result to `X_test_tfidf`."
   ]
  },
  {
   "cell_type": "code",
   "execution_count": 8,
   "metadata": {},
   "outputs": [],
   "source": [
    "# 1. Create a TfidfVectorizer object and save it to the variable 'tfidf_vectorizer'\n",
    "# YOUR CODE HERE\n",
    "tfidf_vectorizer = TfidfVectorizer()\n",
    "\n",
    "\n",
    "# 2. Fit the vectorizer to X_train\n",
    "# YOUR CODE HERE\n",
    "tfidf_vectorizer.fit(X_train)\n",
    "\n",
    "# 3. Using the fitted vectorizer, transform the training data and save the data to variable 'X_train_tfidf'\n",
    "# YOUR CODE HERE\n",
    "X_train_tfidf = tfidf_vectorizer.transform(X_train)\n",
    "\n",
    "\n",
    "# 4. Using the fitted vectorizer, transform the test data and save the data to variable 'X_test_tfidf'\n",
    "# YOUR CODE HERE\n",
    "X_test_tfidf = tfidf_vectorizer.transform(X_test)\n"
   ]
  },
  {
   "cell_type": "code",
   "execution_count": 9,
   "metadata": {},
   "outputs": [
    {
     "name": "stdout",
     "output_type": "stream",
     "text": [
      "  (0, 24430)\t0.039019290860570106\n",
      "  (0, 24426)\t0.09715143009923405\n",
      "  (0, 24422)\t0.02936761517207701\n",
      "  (0, 24115)\t0.024072973451435782\n",
      "  (0, 23987)\t0.16004793532869335\n",
      "  (0, 23928)\t0.14647555045363392\n",
      "  (0, 23862)\t0.06148702963925663\n",
      "  (0, 23801)\t0.1792640683066408\n",
      "  (0, 23650)\t0.12625140283237327\n",
      "  (0, 23060)\t0.050764892977417084\n",
      "  (0, 22785)\t0.046696299726627595\n",
      "  (0, 22444)\t0.04698943829696139\n",
      "  (0, 22212)\t0.1484152729657494\n",
      "  (0, 22172)\t0.06494533278813718\n",
      "  (0, 22165)\t0.06337395630790084\n",
      "  (0, 22024)\t0.046213938145034036\n",
      "  (0, 21957)\t0.07971703791195063\n",
      "  (0, 21678)\t0.0726727630250199\n",
      "  (0, 21158)\t0.04751163372674527\n",
      "  (0, 20966)\t0.05035805125243365\n",
      "  (0, 20951)\t0.05890715590539413\n",
      "  (0, 20820)\t0.05507788567949443\n",
      "  (0, 20720)\t0.17180100293454623\n",
      "  (0, 20614)\t0.023404113408785024\n",
      "  (0, 20598)\t0.08453076061248019\n",
      "  :\t:\n",
      "  (5477, 7489)\t0.11210528377288641\n",
      "  (5477, 7030)\t0.09854929978130436\n",
      "  (5477, 6102)\t0.06746154753496307\n",
      "  (5477, 5065)\t0.13465874127456495\n",
      "  (5477, 5017)\t0.04121853062802492\n",
      "  (5477, 4871)\t0.0466532204515438\n",
      "  (5477, 4779)\t0.0638589748517745\n",
      "  (5477, 4740)\t0.2974442017341834\n",
      "  (5477, 4715)\t0.07946591582417199\n",
      "  (5477, 4448)\t0.33537195518322627\n",
      "  (5477, 4324)\t0.07452584115708197\n",
      "  (5477, 3898)\t0.09085906418400488\n",
      "  (5477, 3895)\t0.09641536847629649\n",
      "  (5477, 3844)\t0.07021991515104228\n",
      "  (5477, 3803)\t0.030331990259959946\n",
      "  (5477, 3779)\t0.09825396982840398\n",
      "  (5477, 3717)\t0.15638882119208053\n",
      "  (5477, 3657)\t0.034719317318596954\n",
      "  (5477, 2969)\t0.057893242424949094\n",
      "  (5477, 2919)\t0.04327989570694035\n",
      "  (5477, 2917)\t0.031761366593245834\n",
      "  (5477, 2759)\t0.05123884387837587\n",
      "  (5477, 2727)\t0.08877301546501341\n",
      "  (5477, 982)\t0.06505654358093313\n",
      "  (5477, 334)\t0.05709834132001074\n"
     ]
    }
   ],
   "source": [
    "print(X_test_tfidf)"
   ]
  },
  {
   "cell_type": "markdown",
   "metadata": {},
   "source": [
    "## Part 4: Fit a Logistic Regression Model to the Transformed Training Data and Evaluate the Model\n",
    "<b>Task</b>: Complete the code cell below to train a logistic regression model using the TF-IDF features, and compute the AUC on the test set.\n",
    "\n",
    "Follow the following steps:\n",
    "\n",
    "1. Create the `LogisticRegression` model object below and assign to variable `model`. Supply `LogisticRegression()` the following argument: `max_iter=200`.\n",
    "2. Fit the logistic regression model to the transformed training data (`X_train_tfidf` and `y_train`).\n",
    "3. Use the predict_proba() method to make predictions on the test data (`X_test_tfidf`). Save the second column to the variable `probability_predictions`. \n",
    "4. Use the `roc_auc_score()` function to compute the area under the ROC curve for the test data. Call the\n",
    "function with the arguments `y_test` and `probability_predictions`. Save the result to the variable `auc`.\n",
    "5. The 'vocabulary_' attribute of the vectorizer (`tfidf_vectorizer.vocabulary_`) returns the feature space. It returns a dictionary; find the length of the dictionary to get the size of the feature space. Save the result to `len_feature_space`."
   ]
  },
  {
   "cell_type": "code",
   "execution_count": 10,
   "metadata": {},
   "outputs": [
    {
     "name": "stdout",
     "output_type": "stream",
     "text": [
      "AUC on the test data: 0.7646\n",
      "The size of the feature space: 26009\n"
     ]
    }
   ],
   "source": [
    "# 1. Create the LogisticRegression model object \n",
    "# YOUR CODE HERE\n",
    "model = LogisticRegression(max_iter=200)\n",
    "\n",
    "# 2. Fit the model to the transformed training data\n",
    "# YOUR CODE HERE\n",
    "model.fit(X_train_tfidf, y_train)\n",
    "\n",
    "# 3. Use the predict_proba() method to make predictions on the test data \n",
    "# YOUR CODE HERE\n",
    "probability_predictions = model.predict_proba(X_test_tfidf)[:,1]\n",
    "\n",
    "# 4. Compute the area under the ROC curve for the test data. \n",
    "# YOUR CODE HERE\n",
    "auc = roc_auc_score(y_test, probability_predictions)\n",
    "\n",
    "print('AUC on the test data: {:.4f}'.format(auc))\n",
    "\n",
    "# 5. Compute the size of the resulting feature space \n",
    "# YOUR CODE HERE\n",
    "len_feature_space = len(tfidf_vectorizer.vocabulary_)\n",
    "\n",
    "print('The size of the feature space: {0}'.format(len_feature_space))\n"
   ]
  },
  {
   "cell_type": "markdown",
   "metadata": {},
   "source": [
    "## Part 5: Experiment with Different Document Frequency Values and Analyze the Results"
   ]
  },
  {
   "cell_type": "markdown",
   "metadata": {},
   "source": [
    "<b>Task</b>: The cell below will loop over a range of 'document frequency' values. For each value, it will fit a vectorizer specifying `ngram_range=(1,2)`. It will then fit a logistic regression model to the transformed data and evaluate the results.   \n",
    "\n",
    "Complete the loop in the cell below by adding the code you wrote above inside the loop. \n",
    "\n",
    "Note: This may take a short while to run."
   ]
  },
  {
   "cell_type": "code",
   "execution_count": 12,
   "metadata": {},
   "outputs": [
    {
     "name": "stdout",
     "output_type": "stream",
     "text": [
      "\n",
      "Document Frequency Value: 1\n",
      "AUC on the test data: 0.8000\n",
      "The size of the feature space: 375518\n",
      "\n",
      "Document Frequency Value: 10\n",
      "AUC on the test data: 0.7903\n",
      "The size of the feature space: 34612\n",
      "\n",
      "Document Frequency Value: 100\n",
      "AUC on the test data: 0.7651\n",
      "The size of the feature space: 4813\n",
      "\n",
      "Document Frequency Value: 1000\n",
      "AUC on the test data: 0.7021\n",
      "The size of the feature space: 526\n"
     ]
    }
   ],
   "source": [
    "for min_df in [1,10,100,1000]:\n",
    "    \n",
    "    print('\\nDocument Frequency Value: {0}'.format(min_df))\n",
    "\n",
    "    # 1. Create a TfidfVectorizer object and save it to the variable 'tfidf_vectorizer'\n",
    "    # Use the arguments: 'ngram_range=(1,2)'' and 'min_df=min_df'   \n",
    "    # YOUR CODE HERE\n",
    "    tfidf_vectorizer = TfidfVectorizer(ngram_range=(1,2), min_df=min_df)\n",
    "    \n",
    "    # 2. Fit the vectorizer to X_train  \n",
    "    # YOUR CODE HERE\n",
    "    tfidf_vectorizer.fit(X_train)\n",
    "\n",
    "    # 3. Using the fitted vectorizer, transform the training data.\n",
    "    # Save the transformed training data to variable 'X_train_tfidf'\n",
    "    # YOUR CODE HERE\n",
    "    X_train_tfidf = tfidf_vectorizer.transform(X_train)\n",
    "\n",
    "    # 4. Using the fitted vectorizer, transform the test data.\n",
    "    # Save the transformed test data to variable 'X_test_tfidf'\n",
    "    # YOUR CODE HERE\n",
    "    X_test_tfidf = tfidf_vectorizer.transform(X_test)\n",
    "\n",
    "    # 5. Create the LogisticRegression model object and save it to variable 'model'.\n",
    "    # Call LogisticRegression() with the argument 'max_iter=200'\n",
    "    # YOUR CODE HERE\n",
    "    model = LogisticRegression(max_iter=200)\n",
    "    \n",
    "    # 6. Fit the model to the transformed training data\n",
    "    # YOUR CODE HERE\n",
    "    model.fit(X_train_tfidf, y_train)\n",
    "\n",
    "    # 7. Use the predict_proba() method to make predictions on the transformed test data. \n",
    "    # Save the second column to the variable `probability_predictions`. \n",
    "    # YOUR CODE HERE\n",
    "    probability_predictions = model.predict_proba(X_test_tfidf)[:,1]\n",
    "\n",
    "\n",
    "    # 8. Using roc_auc_score() function to compute the AUC. \n",
    "    # YOUR CODE HERE\n",
    "    auc = roc_auc_score(y_test, probability_predictions)\n",
    "    \n",
    "    print('AUC on the test data: {:.4f}'.format(auc))\n",
    "\n",
    "    # 9. Compute the size of the resulting feature space \n",
    "    # YOUR CODE HERE\n",
    "    len_feature_space = len(tfidf_vectorizer.vocabulary_)\n",
    "\n",
    "    print('The size of the feature space: {0}'.format(len_feature_space))\n"
   ]
  },
  {
   "cell_type": "markdown",
   "metadata": {},
   "source": [
    "## Part 6: Set up a TF-IDF + Logistic Regression Pipeline\n",
    "\n",
    "We will look at a new way to chain together various methods to automate the machine learning workflow. We will use  the scikit-learn `Pipeline` utility. For more information, consult the online [documentation](https://scikit-learn.org/stable/modules/generated/sklearn.pipeline.Pipeline.html). First, let's import `Pipeline`."
   ]
  },
  {
   "cell_type": "code",
   "execution_count": 13,
   "metadata": {},
   "outputs": [],
   "source": [
    "from sklearn.pipeline import Pipeline"
   ]
  },
  {
   "cell_type": "markdown",
   "metadata": {},
   "source": [
    "The code cell below uses a scikit-learn pipeline to perform TF-IDF vectorization and the fitting of a logistic regression model to the transformed data.\n",
    "\n",
    "This is implemented in the following steps:\n",
    "\n",
    "1. First we will create a list containing the steps to perform in the pipeline. Items in the list will be executed in the order in which they appear.\n",
    "\n",
    "    Each item in the list is a tuple consisting of two items: \n",
    "    1. A descriptive name of what is being performed. You can create any name you'd like.\n",
    "    2. The code to run.\n",
    "    \n",
    "    \n",
    "2. Next we will create a Pipeline object and supply it the list of steps using the `step` parameter\n",
    "\n",
    "\n",
    "3. Finally, we will use this pipeline as we would any model object and fit this pipeline to the original training data and use it to make predictions on the original test data. Note that when calling the `fit()` and `predict()` methods on the pipeline object, all of the steps in the pipeline are performed on the data.\n",
    "\n",
    "Review the code in the cell below to see how it works."
   ]
  },
  {
   "cell_type": "code",
   "execution_count": 14,
   "metadata": {},
   "outputs": [
    {
     "name": "stdout",
     "output_type": "stream",
     "text": [
      "Begin ML pipeline...\n",
      "End pipeline\n"
     ]
    }
   ],
   "source": [
    "print('Begin ML pipeline...')\n",
    "\n",
    "# 1. Define the list of steps:\n",
    "s = [\n",
    "        (\"vectorizer\", TfidfVectorizer(ngram_range=(1,2), min_df=10)),\n",
    "        (\"model\", LogisticRegression(max_iter=200))\n",
    "    ]\n",
    "\n",
    "# 2. Define the pipeline:\n",
    "model_pipeline = Pipeline(steps=s)\n",
    "\n",
    "# We can use the pipeline the way would would use a model object \n",
    "# when fitting the model on the training data testing on the test data:\n",
    "\n",
    "# 3. Fit the pipeline to the training data\n",
    "model_pipeline.fit(X_train, y_train)\n",
    "\n",
    "# 4. Make predictions on the test data\n",
    "probability_predictions = model_pipeline.predict_proba(X_test)[:,1]\n",
    "\n",
    "print('End pipeline')"
   ]
  },
  {
   "cell_type": "markdown",
   "metadata": {},
   "source": [
    "Let's compare the performance of our model when using this approach:"
   ]
  },
  {
   "cell_type": "code",
   "execution_count": 15,
   "metadata": {},
   "outputs": [
    {
     "name": "stdout",
     "output_type": "stream",
     "text": [
      "AUC on the test data: 0.7903\n"
     ]
    }
   ],
   "source": [
    "# Evaluate the performance by computing the AUC\n",
    "\n",
    "auc = roc_auc_score(y_test, probability_predictions)\n",
    "print('AUC on the test data: {:.4f}'.format(auc))"
   ]
  },
  {
   "cell_type": "markdown",
   "metadata": {},
   "source": [
    "In some case, scikit-learn gives you the ability to provide a pipeline object as an argument to a function. One such function is `plot_roc_curve()`. You'll see in the online [documentation](https://scikit-learn.org/0.23/modules/generated/sklearn.metrics.plot_roc_curve.html) that this function can take a pipeline (estimator) as an argument. Rather than implementing steps 3 and 4 in the code cell above, you can call `plot_roc_curve()` with the pipeline and the test data. \n",
    "\n",
    "Let's import the function and try it out:"
   ]
  },
  {
   "cell_type": "code",
   "execution_count": 16,
   "metadata": {},
   "outputs": [
    {
     "data": {
      "text/plain": [
       "<sklearn.metrics._plot.roc_curve.RocCurveDisplay at 0x7fbeaa07a5f8>"
      ]
     },
     "execution_count": 16,
     "metadata": {},
     "output_type": "execute_result"
    },
    {
     "data": {
      "image/png": "[encoded data removed]",
      "text/plain": [
       "<Figure size 432x288 with 1 Axes>"
      ]
     },
     "metadata": {
      "needs_background": "light"
     },
     "output_type": "display_data"
    }
   ],
   "source": [
    "from sklearn.metrics import plot_roc_curve\n",
    "\n",
    "plot_roc_curve(model_pipeline, X_test, y_test) "
   ]
  },
  {
   "cell_type": "markdown",
   "metadata": {},
   "source": [
    "Note that in newer versions of scikit-learn, this function has been replaced by [RocCurveDisplay](https://scikit-learn.org/stable/modules/generated/sklearn.metrics.RocCurveDisplay.html)."
   ]
  }
 ],
 "metadata": {
  "kernelspec": {
   "display_name": "Python 3",
   "language": "python",
   "name": "python3"
  },
  "language_info": {
   "codemirror_mode": {
    "name": "ipython",
    "version": 3
   },
   "file_extension": ".py",
   "mimetype": "text/x-python",
   "name": "python",
   "nbconvert_exporter": "python",
   "pygments_lexer": "ipython3",
   "version": "3.6.9"
  },
  "toc": {
   "base_numbering": 1,
   "nav_menu": {
    "height": "33.9931px",
    "width": "168.003px"
   },
   "number_sections": false,
   "sideBar": true,
   "skip_h1_title": false,
   "title_cell": "Table of Contents",
   "title_sidebar": "Contents",
   "toc_cell": false,
   "toc_position": {},
   "toc_section_display": true,
   "toc_window_display": false
  },
  "varInspector": {
   "cols": {
    "lenName": 16,
    "lenType": 16,
    "lenVar": 40
   },
   "kernels_config": {
    "python": {
     "delete_cmd_postfix": "",
     "delete_cmd_prefix": "del ",
     "library": "var_list.py",
     "varRefreshCmd": "print(var_dic_list())"
    },
    "r": {
     "delete_cmd_postfix": ") ",
     "delete_cmd_prefix": "rm(",
     "library": "var_list.r",
     "varRefreshCmd": "cat(var_dic_list()) "
    }
   },
   "types_to_exclude": [
    "module",
    "function",
    "builtin_function_or_method",
    "instance",
    "_Feature"
   ],
   "window_display": false
  }
 },
 "nbformat": 4,
 "nbformat_minor": 2
}
